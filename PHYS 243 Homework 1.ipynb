{
 "cells": [
  {
   "cell_type": "markdown",
   "id": "da7493af",
   "metadata": {},
   "source": [
    "# Homework 1"
   ]
  },
  {
   "cell_type": "markdown",
   "id": "dd24a3b0",
   "metadata": {},
   "source": [
    "#### Jacqueline Duong"
   ]
  },
  {
   "cell_type": "markdown",
   "id": "09457c06",
   "metadata": {},
   "source": [
    "#### Phys 243"
   ]
  },
  {
   "cell_type": "markdown",
   "id": "d47245e9",
   "metadata": {},
   "source": [
    "## -------------------------------------------"
   ]
  },
  {
   "cell_type": "markdown",
   "id": "a2e42a57",
   "metadata": {},
   "source": [
    "# Problem 1: Python Programming"
   ]
  },
  {
   "cell_type": "markdown",
   "id": "cfb8b89a",
   "metadata": {},
   "source": [
    "### Part 1: Rewrite the function with for loop"
   ]
  },
  {
   "cell_type": "code",
   "execution_count": 4,
   "id": "26c61947",
   "metadata": {
    "scrolled": true
   },
   "outputs": [],
   "source": [
    "def Fib_rec(n):\n",
    "    fib_seq = [0, 1]\n",
    "    #first 2 values of Fibonacci sequence\n",
    "    for i in range(2, n+1):\n",
    "        #set the range function\n",
    "        fib_seq.append(fib_seq[i-1] + fib_seq[i-2])\n",
    "        #append the remaining values\n",
    "    return fib_seq[n]\n",
    "print(Fib_rec(n))"
   ]
  },
  {
   "cell_type": "markdown",
   "id": "c1ee9d5a",
   "metadata": {},
   "source": [
    "### Part 2: Which function is faster"
   ]
  },
  {
   "cell_type": "markdown",
   "id": "08df91c1",
   "metadata": {},
   "source": [
    "#### The function with for loop is faster because it uses iteration instead of repeated function calls, which makes it faster and more efficient. A for loop is especially useful for the Fibonacci sequence, which has an iterative pattern. "
   ]
  },
  {
   "cell_type": "markdown",
   "id": "5e32ad8c",
   "metadata": {},
   "source": [
    "### Part 3: Write a code to find the average time for k times function call"
   ]
  },
  {
   "cell_type": "code",
   "execution_count": 5,
   "id": "56c0a668",
   "metadata": {},
   "outputs": [],
   "source": [
    "import time\n",
    "\n",
    "x = time.time\n",
    "\n",
    "def timer(n, k, f=Fib_rec):\n",
    "    run_time = 0\n",
    "\n",
    "    for _ in range(k):\n",
    "    #for loop for k iterations\n",
    "        start_time = time.time()\n",
    "        #measures start time for function runs\n",
    "        f(n)\n",
    "        #call function to time\n",
    "        end_time = time.time()\n",
    "        ##measures time after the function has run\n",
    "\n",
    "        run_time += end_time - start_time\n",
    "        #takes the diffence to find the time it took for the function to run\n",
    "\n",
    "    average_time = run_time / k\n",
    "    return average_time"
   ]
  },
  {
   "cell_type": "markdown",
   "id": "a1d93c8c",
   "metadata": {},
   "source": [
    "### Part 4: Make a plot"
   ]
  },
  {
   "cell_type": "code",
   "execution_count": null,
   "id": "a61c9ed9",
   "metadata": {},
   "outputs": [],
   "source": [
    "import time\n",
    "import matplotlib.pyplot as plt\n",
    "\n",
    "def Fib_rec(n):\n",
    "    if n == 0:\n",
    "        return 1\n",
    "    elif n == 1:\n",
    "        return 1\n",
    "    else:\n",
    "        return Fib_rec(n - 1) + Fib_rec(n - 2)\n",
    "#recursive function\n",
    "\n",
    "def Fib_iter(n):\n",
    "    fib_seq = [0, 1]\n",
    "    for i in range(2, n + 1):\n",
    "        fib_seq.append(fib_seq[i - 1] + fib_seq[i - 2])\n",
    "    return fib_seq[n]\n",
    "#non-recursive function\n",
    "\n",
    "def timer(n, k, f=Fib_rec):\n",
    "    run_time = 0\n",
    "\n",
    "    for _ in range(k):\n",
    "        start_time = time.time()\n",
    "        f(n)\n",
    "        end_time = time.time()\n",
    "\n",
    "        run_time += end_time - start_time\n",
    "\n",
    "    average_time = run_time / k\n",
    "    return average_time\n",
    "#average time\n",
    "\n",
    "# Input values for the x-axis\n",
    "input_values = [10, 20, 30, 40, 50]\n",
    "\n",
    "# Number of runs for each input\n",
    "k = 10\n",
    "\n",
    "# Calculate average times for both functions\n",
    "recursive_times = []\n",
    "iterative_times = []\n",
    "\n",
    "for n in input_values:\n",
    "    recursive_avg_time = timer(n, k, Fib_rec)\n",
    "    iterative_avg_time = timer(n, k, Fib_iter)\n",
    "\n",
    "    recursive_times.append(recursive_avg_time)\n",
    "    iterative_times.append(iterative_avg_time)\n",
    "\n",
    "# Create the plot\n",
    "plt.plot(input_values, recursive_times, label=\"Recursive\")\n",
    "plt.plot(input_values, iterative_times, label=\"Non-recursive\")\n",
    "\n",
    "plt.xlabel(\"n\")\n",
    "plt.ylabel(\"Average Time (seconds)\")\n",
    "plt.title(\"Recursive vs. Non-recursive Average Time Comparison\")\n",
    "plt.legend()\n",
    "\n",
    "plt.show()"
   ]
  },
  {
   "cell_type": "markdown",
   "id": "7ada86ab",
   "metadata": {},
   "source": [
    "# Problem 2: Linear Algebra"
   ]
  },
  {
   "cell_type": "markdown",
   "id": "e183968e",
   "metadata": {},
   "source": [
    "### M = [[1, -4, 2], \n",
    "### [-4, 1, -2], \n",
    "### [2, -2, -2]]"
   ]
  },
  {
   "cell_type": "markdown",
   "id": "6c9bd9f1",
   "metadata": {},
   "source": [
    "### Part 1: Find determinant, transpose, and inverse for M"
   ]
  },
  {
   "cell_type": "code",
   "execution_count": 3,
   "id": "4bf4d8f5",
   "metadata": {},
   "outputs": [
    {
     "name": "stdout",
     "output_type": "stream",
     "text": [
      "54\n"
     ]
    }
   ],
   "source": [
    "import numpy as np\n",
    "  \n",
    "# creating a 3x3 Numpy matrix\n",
    "matrix = np.array([[1, -4, 2], [-4, 1, -2], [2, -2, -2]])\n",
    "  \n",
    "# calculating the determinant of matrix\n",
    "det = np.linalg.det(matrix)\n",
    "  \n",
    "print(int(det))\n",
    "#the determinant is 54"
   ]
  },
  {
   "cell_type": "code",
   "execution_count": 5,
   "id": "cce9494e",
   "metadata": {},
   "outputs": [
    {
     "name": "stdout",
     "output_type": "stream",
     "text": [
      "[[ 1 -4  2]\n",
      " [-4  1 -2]\n",
      " [ 2 -2 -2]]\n"
     ]
    }
   ],
   "source": [
    "import numpy as np\n",
    "  \n",
    "matrix = np.array([[1, -4, 2], [-4, 1, -2], [2, -2, -2]])\n",
    "\n",
    "print(matrix.T)\n",
    "#prints the transpose"
   ]
  },
  {
   "cell_type": "code",
   "execution_count": 6,
   "id": "15dde77f",
   "metadata": {},
   "outputs": [
    {
     "name": "stdout",
     "output_type": "stream",
     "text": [
      "[[-0.11111111 -0.22222222  0.11111111]\n",
      " [-0.22222222 -0.11111111 -0.11111111]\n",
      " [ 0.11111111 -0.11111111 -0.27777778]]\n"
     ]
    }
   ],
   "source": [
    "import numpy as np\n",
    "  \n",
    "matrix = np.array([[1, -4, 2], [-4, 1, -2], [2, -2, -2]])\n",
    "\n",
    "print(np.linalg.inv(matrix))\n",
    "#prints the inverse"
   ]
  },
  {
   "cell_type": "markdown",
   "id": "35b120a0",
   "metadata": {},
   "source": [
    "### Part 2: Find the eigenvalues and eigenvectors for M"
   ]
  },
  {
   "cell_type": "code",
   "execution_count": 12,
   "id": "b0df170c",
   "metadata": {},
   "outputs": [
    {
     "name": "stdout",
     "output_type": "stream",
     "text": [
      "Eigenvalues:\n",
      " [-3.  6. -3.]\n",
      "Eigenvectors:\n",
      " [[-0.74535599 -0.66666667 -0.13728249]\n",
      " [-0.59628479  0.66666667  0.32973659]\n",
      " [ 0.2981424  -0.33333333  0.93403817]]\n"
     ]
    }
   ],
   "source": [
    "import numpy as np\n",
    "  \n",
    "matrix = np.array([[1, -4, 2], [-4, 1, -2], [2, -2, -2]])\n",
    "\n",
    "eigenvalues, eigenvectors = np.linalg.eig(matrix)\n",
    "\n",
    "print(\"Eigenvalues:\\n\", eigenvalues)\n",
    "print(\"Eigenvectors:\\n\",eigenvectors) "
   ]
  },
  {
   "cell_type": "markdown",
   "id": "af8993dc",
   "metadata": {},
   "source": [
    "### Part 3: Find the Gradient"
   ]
  },
  {
   "cell_type": "code",
   "execution_count": null,
   "id": "ec833e49",
   "metadata": {},
   "outputs": [],
   "source": []
  },
  {
   "cell_type": "markdown",
   "id": "b21b0a95",
   "metadata": {},
   "source": [
    "### Part 4: Find the Hessian Matrix"
   ]
  },
  {
   "cell_type": "code",
   "execution_count": 15,
   "id": "a71f539b",
   "metadata": {},
   "outputs": [
    {
     "name": "stdout",
     "output_type": "stream",
     "text": [
      "[[6*x*y - y*z*sin(x), 3*x**2 + 2*y*z**5 + z*cos(x), 5*y**2*z**4 + y*cos(x)], [3*x**2 + 2*y*z**5 + z*cos(x), 2*x*z**5, 10*x*y*z**4 + sin(x)], [5*y**2*z**4 + y*cos(x), 10*x*y*z**4 + sin(x), 20*x*y**2*z**3]]\n"
     ]
    }
   ],
   "source": [
    "from sympy import symbols, diff, sin, Matrix\n",
    "\n",
    "x, y, z = symbols('x y z')\n",
    "#variables defined\n",
    "\n",
    "g = (x**3 * y) + (y * z * sin(x)) + (x * (y**2) * (z**5))\n",
    "#function defined\n",
    "\n",
    "hessian = ([[diff(diff(g, var1), var2) for var1 in (x, y, z)] for var2 in (x, y, z)])\n",
    "#calculate hessian matrix\n",
    "\n",
    "print(hessian)"
   ]
  },
  {
   "cell_type": "markdown",
   "id": "94d557a3",
   "metadata": {},
   "source": [
    "# Problem 3: Machine Learning"
   ]
  },
  {
   "cell_type": "markdown",
   "id": "c4402f03",
   "metadata": {},
   "source": [
    "### Part 1: Validation vs test samples"
   ]
  },
  {
   "cell_type": "markdown",
   "id": "3a9d84bb",
   "metadata": {},
   "source": [
    "A validation set is used to validate the model and fine tune it. It tests how accurate the model being used is. The test samples are used once the model reaches it final stage. The test samples include unseen data or images to see how well the model does."
   ]
  },
  {
   "cell_type": "markdown",
   "id": "da7ce612",
   "metadata": {},
   "source": [
    "### Part 2: Supervised vs unsupervised learning algorithm"
   ]
  },
  {
   "cell_type": "markdown",
   "id": "5c9ef628",
   "metadata": {},
   "source": [
    "Supervised learning algorithm refers to automatic learning that involves both the input and output relationships. Unsupervised learning algorithm refers to automatic learning of the rules that descibe only the input data, not the output. While supervised learning involves classified/labeled data, unsupervised is concerned with unclassified/unlabeled data. "
   ]
  },
  {
   "cell_type": "markdown",
   "id": "b9208798",
   "metadata": {},
   "source": [
    "### Part 3: Define optimization and describe its relationship with Machine Learning"
   ]
  },
  {
   "cell_type": "markdown",
   "id": "8287abd9",
   "metadata": {},
   "source": [
    "Optimization is the process of determining the proper parameters. As a result, optimization is an important process in Machine Learning because it is used to search the parameters of a learning model by finding the best fit to the data. An optimum parameter fit is indicated by a low cost function value. "
   ]
  }
 ],
 "metadata": {
  "kernelspec": {
   "display_name": "Python 3 (ipykernel)",
   "language": "python",
   "name": "python3"
  },
  "language_info": {
   "codemirror_mode": {
    "name": "ipython",
    "version": 3
   },
   "file_extension": ".py",
   "mimetype": "text/x-python",
   "name": "python",
   "nbconvert_exporter": "python",
   "pygments_lexer": "ipython3",
   "version": "3.9.12"
  }
 },
 "nbformat": 4,
 "nbformat_minor": 5
}
